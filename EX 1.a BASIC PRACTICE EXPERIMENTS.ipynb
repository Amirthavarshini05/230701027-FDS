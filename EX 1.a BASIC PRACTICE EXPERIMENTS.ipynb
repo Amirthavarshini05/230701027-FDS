{
 "cells": [
  {
   "cell_type": "raw",
   "id": "fa989392",
   "metadata": {},
   "source": [
    "EX 1.a BASIC PRACTICE EXPERIMENTS\n",
    "REG NO:230701027\n",
    "STUDENT NAME:AMIRTHAVARSHINI R U\n",
    "DATE:30/07/2024"
   ]
  },
  {
   "cell_type": "code",
   "execution_count": null,
   "id": "e9aeb5c0",
   "metadata": {},
   "outputs": [],
   "source": [
    "import pandas as pd"
   ]
  },
  {
   "cell_type": "code",
   "execution_count": null,
   "id": "26585a2f",
   "metadata": {},
   "outputs": [],
   "source": [
    "import matplotlib.pyplot as plt"
   ]
  },
  {
   "cell_type": "code",
   "execution_count": null,
   "id": "ea34b7a9",
   "metadata": {},
   "outputs": [],
   "source": [
    "data = { 'year':list(range(2011,2021)),'job posting':[150,160,170,180,190,100,102,104,106,107]}\n",
    "df = pd.DataFrame(data)"
   ]
  },
  {
   "cell_type": "code",
   "execution_count": null,
   "id": "15c0347b",
   "metadata": {},
   "outputs": [],
   "source": [
    "df"
   ]
  },
  {
   "cell_type": "code",
   "execution_count": null,
   "id": "0abfaaa3",
   "metadata": {},
   "outputs": [],
   "source": [
    "plt.plot(df['year'],df['job posting'],marker='o',color='m',ms=5)\n",
    "plt.title(\"trend of datascience job posting\")\n",
    "plt.xlabel('year')\n",
    "plt.ylabel('number of job posting')\n",
    "plt.show()"
   ]
  },
  {
   "cell_type": "code",
   "execution_count": null,
   "id": "b154a06c",
   "metadata": {},
   "outputs": [],
   "source": [
    "plt.bar(df['year'],df['job posting'])\n",
    "plt.title(\"trend of datascience job posting\")\n",
    "plt.xlabel('year')\n",
    "plt.ylabel('number of job posting')\n",
    "plt.show()"
   ]
  },
  {
   "cell_type": "code",
   "execution_count": null,
   "id": "2ead853b",
   "metadata": {},
   "outputs": [],
   "source": [
    "file=r\"D:\\230701027\\Book1.csv\""
   ]
  },
  {
   "cell_type": "code",
   "execution_count": null,
   "id": "afa9f38e",
   "metadata": {},
   "outputs": [],
   "source": [
    "h=pd.read_csv(file)"
   ]
  },
  {
   "cell_type": "code",
   "execution_count": null,
   "id": "95884dc9",
   "metadata": {},
   "outputs": [],
   "source": [
    "h.head()"
   ]
  },
  {
   "cell_type": "code",
   "execution_count": null,
   "id": "608751fa",
   "metadata": {},
   "outputs": [],
   "source": [
    "h.tail()"
   ]
  },
  {
   "cell_type": "code",
   "execution_count": null,
   "id": "9c09193c",
   "metadata": {},
   "outputs": [],
   "source": [
    "h"
   ]
  },
  {
   "cell_type": "code",
   "execution_count": null,
   "id": "1a903278",
   "metadata": {},
   "outputs": [],
   "source": [
    "plt.plot(h['year'],h['job posting'],marker='*',color='r',ms=5)\n",
    "plt.title(\"trend of datascience job posting\")\n",
    "plt.xlabel('year')\n",
    "plt.ylabel('number of job posting')\n",
    "plt.show()"
   ]
  },
  {
   "cell_type": "code",
   "execution_count": null,
   "id": "9a9ddd03",
   "metadata": {},
   "outputs": [],
   "source": [
    "plt.bar(h['year'],h['job posting'],color='y')\n",
    "plt.title(\"trend of datascience job posting\",color='g',size=20)\n",
    "plt.xlabel('year')\n",
    "plt.ylabel('number of job posting')\n",
    "plt.show()"
   ]
  },
  {
   "cell_type": "code",
   "execution_count": null,
   "id": "271808ac",
   "metadata": {},
   "outputs": [],
   "source": [
    "roles=[\"data scientist\",\"data analyst\",\"ml engineer\"]\n",
    "count=[5,6,7]"
   ]
  },
  {
   "cell_type": "code",
   "execution_count": null,
   "id": "52e74114",
   "metadata": {},
   "outputs": [],
   "source": [
    "plt.bar(roles,count)\n",
    "plt.title(\"roles in datascience\",color='r',size=20)\n",
    "plt.xlabel('roles')\n",
    "plt.ylabel('counts')\n",
    "plt.show()"
   ]
  }
 ],
 "metadata": {
  "kernelspec": {
   "display_name": "Python 3 (ipykernel)",
   "language": "python",
   "name": "python3"
  },
  "language_info": {
   "codemirror_mode": {
    "name": "ipython",
    "version": 3
   },
   "file_extension": ".py",
   "mimetype": "text/x-python",
   "name": "python",
   "nbconvert_exporter": "python",
   "pygments_lexer": "ipython3",
   "version": "3.11.5"
  }
 },
 "nbformat": 4,
 "nbformat_minor": 5
}
